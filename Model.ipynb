{
  "nbformat": 4,
  "nbformat_minor": 0,
  "metadata": {
    "colab": {
      "provenance": []
    },
    "kernelspec": {
      "name": "python3",
      "display_name": "Python 3"
    },
    "language_info": {
      "name": "python"
    }
  },
  "cells": [
    {
      "cell_type": "markdown",
      "source": [
        "Import neccesary module"
      ],
      "metadata": {
        "id": "q81DS77hg7X0"
      }
    },
    {
      "cell_type": "code",
      "execution_count": 1,
      "metadata": {
        "id": "OKcicPIi4WIy"
      },
      "outputs": [],
      "source": [
        "import pandas as pd\n",
        "import numpy as np\n",
        "import matplotlib.pyplot as plt\n",
        "%matplotlib inline\n",
        "import seaborn as sns\n",
        "from sklearn.model_selection import train_test_split\n",
        "from sklearn.metrics import classification_report\n",
        "from sklearn.metrics import confusion_matrix"
      ]
    },
    {
      "cell_type": "markdown",
      "source": [
        "Import train dataset"
      ],
      "metadata": {
        "id": "bZPcoumxhHCD"
      }
    },
    {
      "cell_type": "code",
      "source": [
        "df = pd.read_csv('./phishing_site_urls.csv')"
      ],
      "metadata": {
        "id": "Uw0mg0IF5sIO"
      },
      "execution_count": 8,
      "outputs": []
    },
    {
      "cell_type": "markdown",
      "source": [
        "Import tokenizer using Regexp"
      ],
      "metadata": {
        "id": "B8LW0PU1hMBQ"
      }
    },
    {
      "cell_type": "code",
      "source": [
        "from nltk.tokenize import RegexpTokenizer"
      ],
      "metadata": {
        "id": "Bryviihu7KlL"
      },
      "execution_count": 10,
      "outputs": []
    },
    {
      "cell_type": "markdown",
      "source": [
        "Import CountVectorizer to vectorize input"
      ],
      "metadata": {
        "id": "aGfpGKVCho28"
      }
    },
    {
      "cell_type": "code",
      "source": [
        "from sklearn.feature_extraction.text import CountVectorizer "
      ],
      "metadata": {
        "id": "2d2n-bkZFL_j"
      },
      "execution_count": 11,
      "outputs": []
    },
    {
      "cell_type": "markdown",
      "source": [
        "Create LogisticRegression function"
      ],
      "metadata": {
        "id": "Yh6e08cZh6ge"
      }
    },
    {
      "cell_type": "code",
      "source": [
        "from sklearn.linear_model import LogisticRegression\n",
        "lr = LogisticRegression()"
      ],
      "metadata": {
        "id": "AF1cVST-RFCR"
      },
      "execution_count": 12,
      "outputs": []
    },
    {
      "cell_type": "markdown",
      "source": [
        "Create Pipeline for dataset flow"
      ],
      "metadata": {
        "id": "zrpIeipgiEbD"
      }
    },
    {
      "cell_type": "code",
      "source": [
        "from sklearn.pipeline import make_pipeline\n",
        "pipeline_ls = make_pipeline(CountVectorizer(tokenizer = RegexpTokenizer(r'[A-Za-z]+').tokenize,stop_words='english'), LogisticRegression(solver='lbfgs', max_iter=100))"
      ],
      "metadata": {
        "id": "Vz_9Ac7riapi"
      },
      "execution_count": 13,
      "outputs": []
    },
    {
      "cell_type": "markdown",
      "source": [
        "Mapping data & split dataset"
      ],
      "metadata": {
        "id": "u1ADJbBciecW"
      }
    },
    {
      "cell_type": "code",
      "source": [
        "df['Label'] = df['Label'].map({'bad':1, 'good': 0})\n",
        "trainX, testX, trainY, testY = train_test_split(df.URL, df.Label)"
      ],
      "metadata": {
        "id": "1ChDmdsZQuKb"
      },
      "execution_count": 14,
      "outputs": []
    },
    {
      "cell_type": "markdown",
      "source": [
        "Fit data & test"
      ],
      "metadata": {
        "id": "Pw6BV5_1isrg"
      }
    },
    {
      "cell_type": "code",
      "source": [
        "pipeline_ls.fit(trainX, trainY)\n",
        "pipeline_ls.score(testX, testY)"
      ],
      "metadata": {
        "colab": {
          "base_uri": "https://localhost:8080/"
        },
        "id": "dOjMWjQfSr0O",
        "outputId": "dbac2774-6c7f-404d-af00-c9860e234c5f"
      },
      "execution_count": 15,
      "outputs": [
        {
          "output_type": "stream",
          "name": "stderr",
          "text": [
            "/usr/local/lib/python3.9/dist-packages/sklearn/feature_extraction/text.py:528: UserWarning: The parameter 'token_pattern' will not be used since 'tokenizer' is not None'\n",
            "  warnings.warn(\n",
            "/usr/local/lib/python3.9/dist-packages/sklearn/linear_model/_logistic.py:458: ConvergenceWarning: lbfgs failed to converge (status=1):\n",
            "STOP: TOTAL NO. of ITERATIONS REACHED LIMIT.\n",
            "\n",
            "Increase the number of iterations (max_iter) or scale the data as shown in:\n",
            "    https://scikit-learn.org/stable/modules/preprocessing.html\n",
            "Please also refer to the documentation for alternative solver options:\n",
            "    https://scikit-learn.org/stable/modules/linear_model.html#logistic-regression\n",
            "  n_iter_i = _check_optimize_result(\n"
          ]
        },
        {
          "output_type": "execute_result",
          "data": {
            "text/plain": [
              "0.9661416806832828"
            ]
          },
          "metadata": {},
          "execution_count": 15
        }
      ]
    },
    {
      "cell_type": "markdown",
      "source": [
        "Print Score"
      ],
      "metadata": {
        "id": "rHdnilwrjFmc"
      }
    },
    {
      "cell_type": "code",
      "source": [
        "print('Training Accuracy :',pipeline_ls.score(trainX,trainY))\n",
        "print('Testing Accuracy :',pipeline_ls.score(testX,testY))\n",
        "con_mat = pd.DataFrame(confusion_matrix(pipeline_ls.predict(testX), testY),\n",
        "            columns = ['Predicted:Bad', 'Predicted:Good'],\n",
        "            index = ['Actual:Bad', 'Actual:Good'])\n",
        "\n",
        "\n",
        "print('\\nCLASSIFICATION REPORT\\n')\n",
        "print(classification_report(pipeline_ls.predict(testX), testY,\n",
        "                            target_names =['Bad','Good']))\n",
        "\n",
        "print('\\nCONFUSION MATRIX')\n",
        "plt.figure(figsize= (6,4))\n",
        "sns.heatmap(con_mat, annot = True,fmt='d',cmap=\"YlGnBu\")"
      ],
      "metadata": {
        "id": "UbMS-4HUTNrb",
        "colab": {
          "base_uri": "https://localhost:8080/",
          "height": 663
        },
        "outputId": "ff6cd3ee-51e1-487a-a52f-faa4defc9b9b"
      },
      "execution_count": 16,
      "outputs": [
        {
          "output_type": "stream",
          "name": "stdout",
          "text": [
            "Training Accuracy : 0.9807212949231692\n",
            "Testing Accuracy : 0.9661416806832828\n",
            "\n",
            "CLASSIFICATION REPORT\n",
            "\n",
            "              precision    recall  f1-score   support\n",
            "\n",
            "         Bad       0.99      0.97      0.98    100545\n",
            "        Good       0.91      0.97      0.94     36792\n",
            "\n",
            "    accuracy                           0.97    137337\n",
            "   macro avg       0.95      0.97      0.96    137337\n",
            "weighted avg       0.97      0.97      0.97    137337\n",
            "\n",
            "\n",
            "CONFUSION MATRIX\n"
          ]
        },
        {
          "output_type": "execute_result",
          "data": {
            "text/plain": [
              "<Axes: >"
            ]
          },
          "metadata": {},
          "execution_count": 16
        },
        {
          "output_type": "display_data",
          "data": {
            "text/plain": [
              "<Figure size 600x400 with 2 Axes>"
            ],
            "image/png": "[encoded data removed]"
          },
          "metadata": {}
        }
      ]
    },
    {
      "cell_type": "markdown",
      "source": [
        "Try another pipeline with different function"
      ],
      "metadata": {
        "id": "PSfrtIdEjXU6"
      }
    },
    {
      "cell_type": "code",
      "source": [
        "from sklearn.naive_bayes import MultinomialNB\n",
        "pipeline_mnb = make_pipeline(CountVectorizer(tokenizer = RegexpTokenizer(r'[A-Za-z]+').tokenize,stop_words='english'), MultinomialNB())"
      ],
      "metadata": {
        "id": "Oqr9NJeCjn-7"
      },
      "execution_count": 17,
      "outputs": []
    },
    {
      "cell_type": "code",
      "source": [
        "pipeline_mnb.fit(trainX, trainY)\n",
        "pipeline_mnb.score(testX, testY)"
      ],
      "metadata": {
        "colab": {
          "base_uri": "https://localhost:8080/"
        },
        "id": "7QdwQaAWj4FS",
        "outputId": "b52ca785-6328-41c4-8a9a-7196e5a46628"
      },
      "execution_count": 18,
      "outputs": [
        {
          "output_type": "stream",
          "name": "stderr",
          "text": [
            "/usr/local/lib/python3.9/dist-packages/sklearn/feature_extraction/text.py:528: UserWarning: The parameter 'token_pattern' will not be used since 'tokenizer' is not None'\n",
            "  warnings.warn(\n"
          ]
        },
        {
          "output_type": "execute_result",
          "data": {
            "text/plain": [
              "0.962755848751611"
            ]
          },
          "metadata": {},
          "execution_count": 18
        }
      ]
    },
    {
      "cell_type": "code",
      "source": [
        "print('Training Accuracy :',pipeline_mnb.score(trainX,trainY))\n",
        "print('Testing Accuracy :',pipeline_mnb.score(testX,testY))\n",
        "con_mat = pd.DataFrame(confusion_matrix(pipeline_mnb.predict(testX), testY),\n",
        "            columns = ['Predicted:Bad', 'Predicted:Good'],\n",
        "            index = ['Actual:Bad', 'Actual:Good'])\n",
        "\n",
        "\n",
        "print('\\nCLASSIFICATION REPORT\\n')\n",
        "print(classification_report(pipeline_mnb.predict(testX), testY,\n",
        "                            target_names =['Bad','Good']))\n",
        "\n",
        "print('\\nCONFUSION MATRIX')\n",
        "plt.figure(figsize= (6,4))\n",
        "sns.heatmap(con_mat, annot = True,fmt='d',cmap=\"YlGnBu\")"
      ],
      "metadata": {
        "colab": {
          "base_uri": "https://localhost:8080/",
          "height": 663
        },
        "id": "TIalJI1fkHcl",
        "outputId": "5c51bbe3-8d26-4c26-c9e2-bc32eb08488c"
      },
      "execution_count": 19,
      "outputs": [
        {
          "output_type": "stream",
          "name": "stdout",
          "text": [
            "Training Accuracy : 0.9741680400185433\n",
            "Testing Accuracy : 0.962755848751611\n",
            "\n",
            "CLASSIFICATION REPORT\n",
            "\n",
            "              precision    recall  f1-score   support\n",
            "\n",
            "         Bad       0.99      0.96      0.97    100702\n",
            "        Good       0.90      0.96      0.93     36635\n",
            "\n",
            "    accuracy                           0.96    137337\n",
            "   macro avg       0.94      0.96      0.95    137337\n",
            "weighted avg       0.96      0.96      0.96    137337\n",
            "\n",
            "\n",
            "CONFUSION MATRIX\n"
          ]
        },
        {
          "output_type": "execute_result",
          "data": {
            "text/plain": [
              "<Axes: >"
            ]
          },
          "metadata": {},
          "execution_count": 19
        },
        {
          "output_type": "display_data",
          "data": {
            "text/plain": [
              "<Figure size 600x400 with 2 Axes>"
            ],
            "image/png": "[encoded data removed]"
          },
          "metadata": {}
        }
      ]
    },
    {
      "cell_type": "markdown",
      "source": [
        "with LinearSVM:"
      ],
      "metadata": {
        "id": "wIY3wMJEkXr_"
      }
    },
    {
      "cell_type": "code",
      "source": [
        "from sklearn.svm import LinearSVC\n",
        "pipeline_svm = make_pipeline(CountVectorizer(tokenizer = RegexpTokenizer(r'[A-Za-z]+').tokenize,stop_words='english'), LinearSVC())"
      ],
      "metadata": {
        "id": "BvAGOwL5kXPO"
      },
      "execution_count": 20,
      "outputs": []
    },
    {
      "cell_type": "code",
      "source": [
        "pipeline_svm.fit(trainX, trainY)\n",
        "pipeline_svm.score(testX, testY)"
      ],
      "metadata": {
        "colab": {
          "base_uri": "https://localhost:8080/"
        },
        "id": "Oo1mGQ8gkmLO",
        "outputId": "d9220273-6249-4a93-d62b-8960bc7aebfc"
      },
      "execution_count": 21,
      "outputs": [
        {
          "output_type": "stream",
          "name": "stderr",
          "text": [
            "/usr/local/lib/python3.9/dist-packages/sklearn/feature_extraction/text.py:528: UserWarning: The parameter 'token_pattern' will not be used since 'tokenizer' is not None'\n",
            "  warnings.warn(\n",
            "/usr/local/lib/python3.9/dist-packages/sklearn/svm/_base.py:1244: ConvergenceWarning: Liblinear failed to converge, increase the number of iterations.\n",
            "  warnings.warn(\n"
          ]
        },
        {
          "output_type": "execute_result",
          "data": {
            "text/plain": [
              "0.9782141738934155"
            ]
          },
          "metadata": {},
          "execution_count": 21
        }
      ]
    },
    {
      "cell_type": "code",
      "source": [
        "print('Training Accuracy :',pipeline_svm.score(trainX,trainY))\n",
        "print('Testing Accuracy :',pipeline_svm.score(testX,testY))\n",
        "con_mat = pd.DataFrame(confusion_matrix(pipeline_svm.predict(testX), testY),\n",
        "            columns = ['Predicted:Bad', 'Predicted:Good'],\n",
        "            index = ['Actual:Bad', 'Actual:Good'])\n",
        "\n",
        "\n",
        "print('\\nCLASSIFICATION REPORT\\n')\n",
        "print(classification_report(pipeline_svm.predict(testX), testY,\n",
        "                            target_names =['Bad','Good']))\n",
        "\n",
        "print('\\nCONFUSION MATRIX')\n",
        "plt.figure(figsize= (6,4))\n",
        "sns.heatmap(con_mat, annot = True,fmt='d',cmap=\"YlGnBu\")"
      ],
      "metadata": {
        "colab": {
          "base_uri": "https://localhost:8080/",
          "height": 663
        },
        "id": "8HoGPNxLkqn8",
        "outputId": "07928dcf-e3a2-437c-d46e-dc4416b8d32a"
      },
      "execution_count": 22,
      "outputs": [
        {
          "output_type": "stream",
          "name": "stdout",
          "text": [
            "Training Accuracy : 0.9990388559473216\n",
            "Testing Accuracy : 0.9782141738934155\n",
            "\n",
            "CLASSIFICATION REPORT\n",
            "\n",
            "              precision    recall  f1-score   support\n",
            "\n",
            "         Bad       0.99      0.98      0.98     98819\n",
            "        Good       0.96      0.97      0.96     38518\n",
            "\n",
            "    accuracy                           0.98    137337\n",
            "   macro avg       0.97      0.98      0.97    137337\n",
            "weighted avg       0.98      0.98      0.98    137337\n",
            "\n",
            "\n",
            "CONFUSION MATRIX\n"
          ]
        },
        {
          "output_type": "execute_result",
          "data": {
            "text/plain": [
              "<Axes: >"
            ]
          },
          "metadata": {},
          "execution_count": 22
        },
        {
          "output_type": "display_data",
          "data": {
            "text/plain": [
              "<Figure size 600x400 with 2 Axes>"
            ],
            "image/png": "[encoded data removed]"
          },
          "metadata": {}
        }
      ]
    },
    {
      "cell_type": "markdown",
      "source": [
        "Let try to predict"
      ],
      "metadata": {
        "id": "81wz4JiPlcu7"
      }
    },
    {
      "cell_type": "code",
      "source": [
        "predict_bad = ['shazam.com','fazan-pacir.rs/temp/libraries/ipad','tubemoviez.exe','svision-online.de/mgfi/administrator/components/com_babackup/classes/fx29id1.txt']\n"
      ],
      "metadata": {
        "id": "ACl6bIZThZSo"
      },
      "execution_count": 27,
      "outputs": []
    },
    {
      "cell_type": "code",
      "source": [
        "pipeline_ls.predict(predict_bad)"
      ],
      "metadata": {
        "colab": {
          "base_uri": "https://localhost:8080/"
        },
        "id": "WlHzirzMmJdp",
        "outputId": "78716175-3843-49ac-e93d-ee98760b0ab5"
      },
      "execution_count": 28,
      "outputs": [
        {
          "output_type": "execute_result",
          "data": {
            "text/plain": [
              "array([0, 1, 1, 1])"
            ]
          },
          "metadata": {},
          "execution_count": 28
        }
      ]
    },
    {
      "cell_type": "code",
      "source": [
        "pipeline_mnb.predict(predict_bad)"
      ],
      "metadata": {
        "id": "gZGH8TzPKRSR",
        "colab": {
          "base_uri": "https://localhost:8080/"
        },
        "outputId": "43065f34-aaed-4460-f481-ab2308034d48"
      },
      "execution_count": 29,
      "outputs": [
        {
          "output_type": "execute_result",
          "data": {
            "text/plain": [
              "array([0, 1, 1, 1])"
            ]
          },
          "metadata": {},
          "execution_count": 29
        }
      ]
    },
    {
      "cell_type": "code",
      "source": [
        "pipeline_svm.predict(predict_bad)"
      ],
      "metadata": {
        "colab": {
          "base_uri": "https://localhost:8080/"
        },
        "id": "FnTjhAKEmSyA",
        "outputId": "dad43c9f-e6fe-4a78-d561-605568e794ad"
      },
      "execution_count": 30,
      "outputs": [
        {
          "output_type": "execute_result",
          "data": {
            "text/plain": [
              "array([0, 1, 1, 1])"
            ]
          },
          "metadata": {},
          "execution_count": 30
        }
      ]
    },
    {
      "cell_type": "markdown",
      "source": [
        "Finally export model"
      ],
      "metadata": {
        "id": "3jatrDUSmeMS"
      }
    },
    {
      "cell_type": "code",
      "source": [
        "import joblib\n",
        "joblib.dump(pipeline_ls, 'model-lg.pkl')\n",
        "joblib.dump(pipeline_mnb, 'model-mnb.pkl')\n",
        "joblib.dump(pipeline_svm, 'model-svm.pkl')"
      ],
      "metadata": {
        "colab": {
          "base_uri": "https://localhost:8080/"
        },
        "id": "P7IYagQymjgc",
        "outputId": "d58b485a-1693-452b-9703-a5f2566d89b5"
      },
      "execution_count": 31,
      "outputs": [
        {
          "output_type": "execute_result",
          "data": {
            "text/plain": [
              "['model-svm.pkl']"
            ]
          },
          "metadata": {},
          "execution_count": 31
        }
      ]
    },
    {
      "cell_type": "markdown",
      "source": [
        "ONNX model exort (In-development)"
      ],
      "metadata": {
        "id": "LBdNP_v0m5q4"
      }
    },
    {
      "cell_type": "code",
      "source": [
        "from sklearn.pipeline import Pipeline"
      ],
      "metadata": {
        "id": "WAiN5nfPnF_V"
      },
      "execution_count": 32,
      "outputs": []
    },
    {
      "cell_type": "code",
      "source": [
        "numeric_transformer = Pipeline(steps=[\n",
        "    ('Vect', CountVectorizer(token_pattern=r'[A-Za-z]+', stop_words='english'))\n",
        "])\n",
        "\n",
        "model_ls = Pipeline(steps=[\n",
        "    ('num', numeric_transformer),\n",
        "    ('classifier', LogisticRegression())\n",
        "])"
      ],
      "metadata": {
        "id": "NcHdoTjenVeG"
      },
      "execution_count": 33,
      "outputs": []
    },
    {
      "cell_type": "code",
      "source": [
        "model_ls.fit(trainX, trainY)\n",
        "model_ls.score(testX, testY)"
      ],
      "metadata": {
        "colab": {
          "base_uri": "https://localhost:8080/"
        },
        "id": "gYcFpqI-D1Kk",
        "outputId": "444423f9-d040-48cc-9d0d-78f225c6c36c"
      },
      "execution_count": 34,
      "outputs": [
        {
          "output_type": "stream",
          "name": "stderr",
          "text": [
            "/usr/local/lib/python3.9/dist-packages/sklearn/linear_model/_logistic.py:458: ConvergenceWarning: lbfgs failed to converge (status=1):\n",
            "STOP: TOTAL NO. of ITERATIONS REACHED LIMIT.\n",
            "\n",
            "Increase the number of iterations (max_iter) or scale the data as shown in:\n",
            "    https://scikit-learn.org/stable/modules/preprocessing.html\n",
            "Please also refer to the documentation for alternative solver options:\n",
            "    https://scikit-learn.org/stable/modules/linear_model.html#logistic-regression\n",
            "  n_iter_i = _check_optimize_result(\n"
          ]
        },
        {
          "output_type": "execute_result",
          "data": {
            "text/plain": [
              "0.9661416806832828"
            ]
          },
          "metadata": {},
          "execution_count": 34
        }
      ]
    },
    {
      "cell_type": "markdown",
      "source": [
        "Install convert lib"
      ],
      "metadata": {
        "id": "bt3pIwJjnd1K"
      }
    },
    {
      "cell_type": "code",
      "source": [
        "!pip install skl2onnx\n"
      ],
      "metadata": {
        "colab": {
          "base_uri": "https://localhost:8080/"
        },
        "id": "6kecT4INGl6b",
        "outputId": "c5fe68fd-69f1-41b6-863d-d909ee2279e7"
      },
      "execution_count": 35,
      "outputs": [
        {
          "output_type": "stream",
          "name": "stdout",
          "text": [
            "Looking in indexes: https://pypi.org/simple, https://us-python.pkg.dev/colab-wheels/public/simple/\n",
            "Collecting skl2onnx\n",
            "  Downloading skl2onnx-1.14.0-py2.py3-none-any.whl (294 kB)\n",
            "\u001b[2K     \u001b[90m━━━━━━━━━━━━━━━━━━━━━━━━━━━━━━━━━━━━━━━\u001b[0m \u001b[32m294.0/294.0 kB\u001b[0m \u001b[31m6.0 MB/s\u001b[0m eta \u001b[36m0:00:00\u001b[0m\n",
            "\u001b[?25hCollecting onnxconverter-common>=1.7.0\n",
            "  Downloading onnxconverter_common-1.13.0-py2.py3-none-any.whl (83 kB)\n",
            "\u001b[2K     \u001b[90m━━━━━━━━━━━━━━━━━━━━━━━━━━━━━━━━━━━━━━━━\u001b[0m \u001b[32m83.8/83.8 kB\u001b[0m \u001b[31m8.8 MB/s\u001b[0m eta \u001b[36m0:00:00\u001b[0m\n",
            "\u001b[?25hRequirement already satisfied: scikit-learn<1.3,>=0.19 in /usr/local/lib/python3.9/dist-packages (from skl2onnx) (1.2.2)\n",
            "Requirement already satisfied: onnx>=1.2.1 in /usr/local/lib/python3.9/dist-packages (from skl2onnx) (1.13.1)\n",
            "Requirement already satisfied: protobuf<4,>=3.20.2 in /usr/local/lib/python3.9/dist-packages (from onnx>=1.2.1->skl2onnx) (3.20.3)\n",
            "Requirement already satisfied: typing-extensions>=3.6.2.1 in /usr/local/lib/python3.9/dist-packages (from onnx>=1.2.1->skl2onnx) (4.5.0)\n",
            "Requirement already satisfied: numpy>=1.16.6 in /usr/local/lib/python3.9/dist-packages (from onnx>=1.2.1->skl2onnx) (1.22.4)\n",
            "Requirement already satisfied: packaging in /usr/local/lib/python3.9/dist-packages (from onnxconverter-common>=1.7.0->skl2onnx) (23.0)\n",
            "Requirement already satisfied: scipy>=1.3.2 in /usr/local/lib/python3.9/dist-packages (from scikit-learn<1.3,>=0.19->skl2onnx) (1.10.1)\n",
            "Requirement already satisfied: joblib>=1.1.1 in /usr/local/lib/python3.9/dist-packages (from scikit-learn<1.3,>=0.19->skl2onnx) (1.2.0)\n",
            "Requirement already satisfied: threadpoolctl>=2.0.0 in /usr/local/lib/python3.9/dist-packages (from scikit-learn<1.3,>=0.19->skl2onnx) (3.1.0)\n",
            "Installing collected packages: onnxconverter-common, skl2onnx\n",
            "Successfully installed onnxconverter-common-1.13.0 skl2onnx-1.14.0\n"
          ]
        }
      ]
    },
    {
      "cell_type": "code",
      "source": [
        "from skl2onnx import convert_sklearn, to_onnx\n",
        "from skl2onnx.common.data_types import StringTensorType"
      ],
      "metadata": {
        "id": "_kIWeV423SId"
      },
      "execution_count": 36,
      "outputs": []
    },
    {
      "cell_type": "markdown",
      "source": [
        "Add some sep for CountVectorizer"
      ],
      "metadata": {
        "id": "4c40RkWjnsm7"
      }
    },
    {
      "cell_type": "code",
      "source": [
        "seps = {\n",
        "    CountVectorizer: {\n",
        "        \"separators\": [\n",
        "            ' ', '.', '\\\\?', ',', ';', ':', '!',\n",
        "            '\\\\(', '\\\\)', '\\n', '\"', \"'\",\n",
        "            \"-\", \"\\\\[\", \"\\\\]\", \"@\"\n",
        "        ]\n",
        "    }\n",
        "}"
      ],
      "metadata": {
        "id": "E3cRmSEznxEO"
      },
      "execution_count": 37,
      "outputs": []
    },
    {
      "cell_type": "markdown",
      "source": [
        "Now convert"
      ],
      "metadata": {
        "id": "reojsksmnyJF"
      }
    },
    {
      "cell_type": "code",
      "source": [
        "model_onnx = convert_sklearn(\n",
        "    model_ls, \"Vect\",\n",
        "    initial_types=[(\"input\", StringTensorType([None, 1]))],\n",
        "    options=seps, target_opset=12)"
      ],
      "metadata": {
        "id": "NaiQfJdkTPri"
      },
      "execution_count": 53,
      "outputs": []
    },
    {
      "cell_type": "markdown",
      "source": [
        "Dumping out the model"
      ],
      "metadata": {
        "id": "60V9T_F2oCaD"
      }
    },
    {
      "cell_type": "code",
      "source": [
        "with open('model.onnx', 'wb') as f:\n",
        "  f.write(model_onnx.SerializePartialToString())"
      ],
      "metadata": {
        "id": "wZXwnnzloECC"
      },
      "execution_count": 54,
      "outputs": []
    },
    {
      "cell_type": "markdown",
      "source": [
        "Reload model for checking"
      ],
      "metadata": {
        "id": "ZUbwfSISoNQy"
      }
    },
    {
      "cell_type": "code",
      "source": [
        "!pip install onnxruntime\n",
        "import onnxruntime as rt"
      ],
      "metadata": {
        "colab": {
          "base_uri": "https://localhost:8080/"
        },
        "id": "Is6VrsqToXH2",
        "outputId": "5331064f-79b3-4ba5-d50b-bc65a31331d3"
      },
      "execution_count": 41,
      "outputs": [
        {
          "output_type": "stream",
          "name": "stdout",
          "text": [
            "Looking in indexes: https://pypi.org/simple, https://us-python.pkg.dev/colab-wheels/public/simple/\n",
            "Requirement already satisfied: onnxruntime in /usr/local/lib/python3.9/dist-packages (1.14.1)\n",
            "Requirement already satisfied: protobuf in /usr/local/lib/python3.9/dist-packages (from onnxruntime) (3.20.3)\n",
            "Requirement already satisfied: flatbuffers in /usr/local/lib/python3.9/dist-packages (from onnxruntime) (23.3.3)\n",
            "Requirement already satisfied: packaging in /usr/local/lib/python3.9/dist-packages (from onnxruntime) (23.0)\n",
            "Requirement already satisfied: numpy>=1.21.6 in /usr/local/lib/python3.9/dist-packages (from onnxruntime) (1.22.4)\n",
            "Requirement already satisfied: coloredlogs in /usr/local/lib/python3.9/dist-packages (from onnxruntime) (15.0.1)\n",
            "Requirement already satisfied: sympy in /usr/local/lib/python3.9/dist-packages (from onnxruntime) (1.11.1)\n",
            "Requirement already satisfied: humanfriendly>=9.1 in /usr/local/lib/python3.9/dist-packages (from coloredlogs->onnxruntime) (10.0)\n",
            "Requirement already satisfied: mpmath>=0.19 in /usr/local/lib/python3.9/dist-packages (from sympy->onnxruntime) (1.3.0)\n"
          ]
        }
      ]
    },
    {
      "cell_type": "code",
      "source": [
        "sess = rt.InferenceSession('./model.onnx')"
      ],
      "metadata": {
        "id": "10pqlS7yTu1B"
      },
      "execution_count": 55,
      "outputs": []
    },
    {
      "cell_type": "markdown",
      "source": [
        "Get the input"
      ],
      "metadata": {
        "id": "RBsjVYF-pC9y"
      }
    },
    {
      "cell_type": "code",
      "source": [
        "newDf = [['facebook.com']]\n",
        "inputs = {sess.get_inputs()[0].name: np.array(newDf[:1])}"
      ],
      "metadata": {
        "id": "YDQ0havwoqI3"
      },
      "execution_count": 68,
      "outputs": []
    },
    {
      "cell_type": "markdown",
      "source": [
        "Run the predict"
      ],
      "metadata": {
        "id": "pojucjYLpGOh"
      }
    },
    {
      "cell_type": "code",
      "source": [
        "pred_onx = sess.run(None, inputs)\n",
        "print(\"predict\", pred_onx[0])\n",
        "print(\"predict_proba\", pred_onx[1])"
      ],
      "metadata": {
        "colab": {
          "base_uri": "https://localhost:8080/"
        },
        "id": "bGTpgSOVV5nU",
        "outputId": "a0321fdd-e6ec-4891-9c3e-8f259768a11a"
      },
      "execution_count": 69,
      "outputs": [
        {
          "output_type": "stream",
          "name": "stdout",
          "text": [
            "predict [1]\n",
            "predict_proba [{0: 0.3689752221107483, 1: 0.6310247778892517}]\n"
          ]
        }
      ]
    }
  ]
}